{
 "cells": [
  {
   "cell_type": "code",
   "execution_count": 1,
   "metadata": {},
   "outputs": [],
   "source": [
    "import snscrape.modules.twitter as sntwitter\n",
    "import pandas as pd\n",
    "import csv"
   ]
  },
  {
   "cell_type": "code",
   "execution_count": 2,
   "metadata": {},
   "outputs": [],
   "source": [
    "query = 'Robb Elementary School shooting'"
   ]
  },
  {
   "cell_type": "code",
   "execution_count": 3,
   "metadata": {
    "scrolled": true
   },
   "outputs": [
    {
     "name": "stdout",
     "output_type": "stream",
     "text": [
      "                           date                                 user  \\\n",
      "0     2022-10-07 15:18:32+00:00            https://twitter.com/chron   \n",
      "1     2022-10-07 12:00:10+00:00  https://twitter.com/timesrecordnews   \n",
      "2     2022-10-07 12:00:10+00:00      https://twitter.com/gosanangelo   \n",
      "3     2022-10-07 06:04:31+00:00     https://twitter.com/newsoneplace   \n",
      "4     2022-10-07 02:01:40+00:00      https://twitter.com/italaahimar   \n",
      "...                         ...                                  ...   \n",
      "15515 2021-10-27 01:34:36+00:00  https://twitter.com/TanyaTheWayward   \n",
      "15516 2021-03-24 02:15:38+00:00         https://twitter.com/A_M_Robb   \n",
      "15517 2013-04-22 18:18:55+00:00       https://twitter.com/scott_robb   \n",
      "15518 2012-12-14 17:38:40+00:00         https://twitter.com/Robb_emm   \n",
      "15519 2012-10-22 01:33:07+00:00    https://twitter.com/theautotowing   \n",
      "\n",
      "                                             description  \n",
      "0      The former Texas state trooper under investiga...  \n",
      "1      Following new outrage by Uvalde parents, schoo...  \n",
      "2      Following new outrage by Uvalde parents, schoo...  \n",
      "3      (HUFFPOST):#Uvalde #District Fires Officer Who...  \n",
      "4      It’s been over 4 months since the Robb Element...  \n",
      "...                                                  ...  \n",
      "15515  &gt;January 29, 1979\\n&gt;16 year old girl\\n&g...  \n",
      "15516  @MikeDrucker I watched as my government did no...  \n",
      "15517  @joedarts317 @djhahn13 @merryjest @marina_sirt...  \n",
      "15518  Shooting in a elementary school smh - innocent...  \n",
      "15519  One person injured in shooting near North Rich...  \n",
      "\n",
      "[15520 rows x 3 columns]\n"
     ]
    }
   ],
   "source": [
    "tweets = []\n",
    "limit = 50000\n",
    "\n",
    "csvFile = open('result.csv', 'a')\n",
    "\n",
    "csvWriter = csv.writer(csvFile)\n",
    "\n",
    "for tweet in sntwitter.TwitterSearchScraper(query).get_items():\n",
    "    if len(tweets) == limit:\n",
    "        break\n",
    "        \n",
    "    else:\n",
    "        tweets.append([tweet.date, tweet.user, tweet.content])\n",
    "        \n",
    "        #csvWriter.writerow([tweet.date, tweet.user, tweet.content])\n",
    "        #print(tweet.date, tweet.user, tweet.content)\n",
    "        #csvFile.close()\n",
    "        \n",
    "df = pd.DataFrame(tweets, columns = ['date', 'user', 'description'])\n",
    "print(df)\n",
    "        \n",
    "   "
   ]
  },
  {
   "cell_type": "code",
   "execution_count": 5,
   "metadata": {},
   "outputs": [],
   "source": [
    "df.to_csv('twitter_data.csv')"
   ]
  },
  {
   "cell_type": "code",
   "execution_count": null,
   "metadata": {},
   "outputs": [],
   "source": []
  }
 ],
 "metadata": {
  "kernelspec": {
   "display_name": "Python 3",
   "language": "python",
   "name": "python3"
  },
  "language_info": {
   "codemirror_mode": {
    "name": "ipython",
    "version": 3
   },
   "file_extension": ".py",
   "mimetype": "text/x-python",
   "name": "python",
   "nbconvert_exporter": "python",
   "pygments_lexer": "ipython3",
   "version": "3.8.5"
  }
 },
 "nbformat": 4,
 "nbformat_minor": 4
}
